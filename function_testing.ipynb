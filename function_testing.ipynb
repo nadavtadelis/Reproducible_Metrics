{
 "cells": [
  {
   "cell_type": "code",
   "execution_count": 1,
   "metadata": {},
   "outputs": [
    {
     "name": "stderr",
     "output_type": "stream",
     "text": [
      "/Users/nadavtadelis/anaconda/envs/study_env/lib/python3.6/site-packages/statsmodels/compat/pandas.py:56: FutureWarning: The pandas.core.datetools module is deprecated and will be removed in a future version. Please use the pandas.tseries module instead.\n",
      "  from pandas.core import datetools\n"
     ]
    }
   ],
   "source": [
    "import quadratic2SLS as q2sls\n",
    "import numpy as np"
   ]
  },
  {
   "cell_type": "code",
   "execution_count": 20,
   "metadata": {},
   "outputs": [
    {
     "data": {
      "text/plain": [
       "array([15.10341107,  4.03934712,  9.77980548, ..., 19.38142046,\n",
       "       14.54941029,  6.98584136])"
      ]
     },
     "execution_count": 20,
     "metadata": {},
     "output_type": "execute_result"
    }
   ],
   "source": [
    "# DGP:\n",
    "# Y = 1.5 + 1.2*X1 - 0.1*(X1)^2 + 3*X2 + 2*X3 + 4*X4 + epsilon\n",
    "# model 1: X1 = 1 + 2*X3 + 2.5*X4 + 2*Z1 + eta\n",
    "# model 2: X1 = 1 + 2*X3 + 2.5*X4 + 2*Z2 + eta\n",
    "\n",
    "n = 1500\n",
    "\n",
    "X2 = np.random.binomial(1, 0.7, n)\n",
    "X3 = np.random.normal(2, 1, n)\n",
    "X4 = np.random.normal(1.5, 2, n)\n",
    "Z1 = np.random.normal(2, 1, n)\n",
    "Z2 = np.random.binomial(1, 0.4, n)\n",
    "epsilon = np.random.normal(0, 1, n)\n",
    "eta = np.random.normal(0, 1, n)\n",
    "\n",
    "# Model 1:\n",
    "X1_1 = 1 + 2*X3 + 2.5*X4 + 2*Z1 + eta\n",
    "Y_1 = 1.5 + 1.2*X1_1 - 0.1*(X1_1)**2 + 3*X2 + 2*X3 + 4*X4 + epsilon\n",
    "\n",
    "# Model 2:\n",
    "X1_2 = 1 + 2*X3 + 2.5*X4 + 2*Z2 + eta\n",
    "Y_2 = 1.5 + 1.2*X1_2 - 0.1*(X1_2)**2 + 3*X2 + 2*X3 + 4*X4 + epsilon"
   ]
  },
  {
   "cell_type": "code",
   "execution_count": null,
   "metadata": {},
   "outputs": [],
   "source": []
  }
 ],
 "metadata": {
  "kernelspec": {
   "display_name": "Python 3",
   "language": "python",
   "name": "python3"
  },
  "language_info": {
   "codemirror_mode": {
    "name": "ipython",
    "version": 3
   },
   "file_extension": ".py",
   "mimetype": "text/x-python",
   "name": "python",
   "nbconvert_exporter": "python",
   "pygments_lexer": "ipython3",
   "version": "3.6.4"
  }
 },
 "nbformat": 4,
 "nbformat_minor": 2
}
