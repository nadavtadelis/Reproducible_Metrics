{
 "cells": [
  {
   "cell_type": "code",
   "execution_count": 26,
   "metadata": {},
   "outputs": [],
   "source": [
    "import quadratic2SLS as q2sls\n",
    "import numpy as np\n",
    "import pandas as pd\n",
    "import statsmodels.api as sm"
   ]
  },
  {
   "cell_type": "code",
   "execution_count": 33,
   "metadata": {},
   "outputs": [
    {
     "name": "stderr",
     "output_type": "stream",
     "text": [
      "100%|██████████| 5000/5000 [00:52<00:00, 94.73it/s]\n",
      "100%|██████████| 5000/5000 [00:56<00:00, 87.98it/s]\n",
      "100%|██████████| 5000/5000 [00:57<00:00, 87.51it/s]\n"
     ]
    }
   ],
   "source": [
    "# DGP:\n",
    "# Y = 1.5 + 1.2*X1 - 0.1*(X1)^2 + 3*X2 + 2*X3 + 4*X4 + epsilon\n",
    "# model 1: X1 = 1 + 2*X3 + 2.5*X4 + 2*Z1 + eta\n",
    "# model 2: X1 = 1 + 2*X3 + 2.5*X4 + 2*Z2 + eta\n",
    "# model 3: X1 = 1 + 2*X3 + 2.5*X4 + 2*Z1 + 2*Z2 + eta\n",
    "# We will leave out X4 from the estimation\n",
    "# so X1 is the endogenous variable and Z is the instrument\n",
    "\n",
    "n = 1500\n",
    "n_bootstraps = 5000\n",
    "\n",
    "X2 = np.random.binomial(1, 0.7, n)\n",
    "X3 = np.random.normal(2, 1, n)\n",
    "X4 = np.random.normal(1.5, 2, n)\n",
    "Z1 = np.random.normal(2, 1, n)\n",
    "Z2 = np.random.binomial(1, 0.4, n)\n",
    "epsilon = np.random.normal(0, 1, n)\n",
    "eta = np.random.normal(0, 1, n)\n",
    "\n",
    "# Model 1:\n",
    "X1_1 = 1 + 2*X3 + 2.5*X4 + 2*Z1 + eta\n",
    "Y_1 = 1.5 + 1.2*X1_1 - 0.1*(X1_1)**2 + 3*X2 + 2*X3 + 4*X4 + epsilon\n",
    "\n",
    "# Model 2:\n",
    "X1_2 = 1 + 2*X3 + 2.5*X4 + 2*Z2 + eta\n",
    "Y_2 = 1.5 + 1.2*X1_2 - 0.1*(X1_2)**2 + 3*X2 + 2*X3 + 4*X4 + epsilon\n",
    "\n",
    "# Model 2:\n",
    "X1_3 = 1 + 2*X3 + 2.5*X4 + 2*Z1 + 2*Z2 + eta\n",
    "Y_3 = 1.5 + 1.2*X1_3 - 0.1*(X1_3)**2 + 3*X2 + 2*X3 + 4*X4 + epsilon\n",
    "\n",
    "# Constructing the data sets\n",
    "exogenous = pd.DataFrame({'X2' : X2, 'X3' : X3})\n",
    "exogenous = sm.add_constant(exogenous)\n",
    "endog1 = pd.DataFrame({'X1' : X1_1})\n",
    "endog2 = pd.DataFrame({'X1' : X1_2})\n",
    "endog3 = pd.DataFrame({'X1' : X1_3})\n",
    "instruments1 = pd.DataFrame({'Z1' : Z1})\n",
    "instruments2 = pd.DataFrame({'Z2' : Z2})\n",
    "instruments3 = pd.DataFrame({'Z1' : Z1, 'Z2' : Z2})\n",
    "Y_1 = pd.DataFrame({'Y' : Y_1})\n",
    "Y_2 = pd.DataFrame({'Y' : Y_2})\n",
    "Y_3 = pd.DataFrame({'Y' : Y_3})\n",
    "\n",
    "## Estimating the models\n",
    "# model 1:\n",
    "model1 = q2sls.Quadratic2SLS(Y_1, exogenous, endog1, instruments1)\n",
    "result1 = model1.fit(cov_type='Bootstrap', n_iter = n_bootstraps)\n",
    "\n",
    "# model 2:\n",
    "model2 = q2sls.Quadratic2SLS(Y_2, exogenous, endog2, instruments2)\n",
    "result2 = model2.fit(cov_type='Bootstrap', n_iter = n_bootstraps)\n",
    "\n",
    "# model 3:\n",
    "model3 = q2sls.Quadratic2SLS(Y_3, exogenous, endog3, instruments3)\n",
    "result3 = model3.fit(cov_type='Bootstrap', n_iter = n_bootstraps)"
   ]
  },
  {
   "cell_type": "code",
   "execution_count": 34,
   "metadata": {},
   "outputs": [
    {
     "data": {
      "text/html": [
       "<div>\n",
       "<style scoped>\n",
       "    .dataframe tbody tr th:only-of-type {\n",
       "        vertical-align: middle;\n",
       "    }\n",
       "\n",
       "    .dataframe tbody tr th {\n",
       "        vertical-align: top;\n",
       "    }\n",
       "\n",
       "    .dataframe thead th {\n",
       "        text-align: right;\n",
       "    }\n",
       "</style>\n",
       "<table border=\"1\" class=\"dataframe\">\n",
       "  <thead>\n",
       "    <tr style=\"text-align: right;\">\n",
       "      <th></th>\n",
       "      <th>Bootstrapped</th>\n",
       "      <th>Full_Sample</th>\n",
       "    </tr>\n",
       "  </thead>\n",
       "  <tbody>\n",
       "    <tr>\n",
       "      <th>const</th>\n",
       "      <td>746.502873</td>\n",
       "      <td>-14.724628</td>\n",
       "    </tr>\n",
       "    <tr>\n",
       "      <th>endog_hat</th>\n",
       "      <td>-152.498194</td>\n",
       "      <td>5.854600</td>\n",
       "    </tr>\n",
       "    <tr>\n",
       "      <th>endog_sq_hat</th>\n",
       "      <td>6.209220</td>\n",
       "      <td>-0.285066</td>\n",
       "    </tr>\n",
       "    <tr>\n",
       "      <th>X2</th>\n",
       "      <td>30.190102</td>\n",
       "      <td>2.411251</td>\n",
       "    </tr>\n",
       "    <tr>\n",
       "      <th>X3</th>\n",
       "      <td>-10.649633</td>\n",
       "      <td>1.625686</td>\n",
       "    </tr>\n",
       "  </tbody>\n",
       "</table>\n",
       "</div>"
      ],
      "text/plain": [
       "              Bootstrapped  Full_Sample\n",
       "const           746.502873   -14.724628\n",
       "endog_hat      -152.498194     5.854600\n",
       "endog_sq_hat      6.209220    -0.285066\n",
       "X2               30.190102     2.411251\n",
       "X3              -10.649633     1.625686"
      ]
     },
     "execution_count": 34,
     "metadata": {},
     "output_type": "execute_result"
    }
   ],
   "source": [
    "coeff_estms1 = pd.DataFrame([result1.beta_hat_boots.mean(axis=0), result1.result2.params]).transpose()\n",
    "coeff_estms1.columns = ['Bootstrapped', 'Full_Sample']\n",
    "coeff_estms1['True_Coeffs'] = [1.5, 1.2, 0.1, 3, 2]\n",
    "coeff_estms1"
   ]
  },
  {
   "cell_type": "code",
   "execution_count": 35,
   "metadata": {},
   "outputs": [
    {
     "name": "stderr",
     "output_type": "stream",
     "text": [
      "/Users/nadavtadelis/anaconda/envs/study_env/lib/python3.6/site-packages/seaborn/timeseries.py:183: UserWarning: The tsplot function is deprecated and will be removed or replaced (in a substantially altered version) in a future release.\n",
      "  warnings.warn(msg, UserWarning)\n"
     ]
    },
    {
     "data": {
      "image/png": "[encoded data removed]",
      "text/plain": [
       "<Figure size 432x288 with 1 Axes>"
      ]
     },
     "metadata": {},
     "output_type": "display_data"
    }
   ],
   "source": [
    "import seaborn as sns\n",
    "cumsum_beta_hat_boots = np.cumsum(result1.beta_hat_boots['endog_hat'])\n",
    "sns.tsplot(cumsum_beta_hat_boots/np.arange(n_bootstraps));"
   ]
  },
  {
   "cell_type": "code",
   "execution_count": 42,
   "metadata": {},
   "outputs": [
    {
     "data": {
      "text/html": [
       "<div>\n",
       "<style scoped>\n",
       "    .dataframe tbody tr th:only-of-type {\n",
       "        vertical-align: middle;\n",
       "    }\n",
       "\n",
       "    .dataframe tbody tr th {\n",
       "        vertical-align: top;\n",
       "    }\n",
       "\n",
       "    .dataframe thead th {\n",
       "        text-align: right;\n",
       "    }\n",
       "</style>\n",
       "<table border=\"1\" class=\"dataframe\">\n",
       "  <thead>\n",
       "    <tr style=\"text-align: right;\">\n",
       "      <th></th>\n",
       "      <th>Bootstrapped</th>\n",
       "      <th>Full_Sample</th>\n",
       "      <th>True_Coeffs</th>\n",
       "    </tr>\n",
       "  </thead>\n",
       "  <tbody>\n",
       "    <tr>\n",
       "      <th>const</th>\n",
       "      <td>-2.617865</td>\n",
       "      <td>1.589438</td>\n",
       "      <td>1.5</td>\n",
       "    </tr>\n",
       "    <tr>\n",
       "      <th>endog_hat</th>\n",
       "      <td>3.271453</td>\n",
       "      <td>2.454104</td>\n",
       "      <td>1.2</td>\n",
       "    </tr>\n",
       "    <tr>\n",
       "      <th>endog_sq_hat</th>\n",
       "      <td>-0.178708</td>\n",
       "      <td>-0.146940</td>\n",
       "      <td>0.1</td>\n",
       "    </tr>\n",
       "    <tr>\n",
       "      <th>X2</th>\n",
       "      <td>2.486843</td>\n",
       "      <td>2.491079</td>\n",
       "      <td>3.0</td>\n",
       "    </tr>\n",
       "    <tr>\n",
       "      <th>X3</th>\n",
       "      <td>1.702747</td>\n",
       "      <td>1.712935</td>\n",
       "      <td>2.0</td>\n",
       "    </tr>\n",
       "  </tbody>\n",
       "</table>\n",
       "</div>"
      ],
      "text/plain": [
       "              Bootstrapped  Full_Sample  True_Coeffs\n",
       "const            -2.617865     1.589438          1.5\n",
       "endog_hat         3.271453     2.454104          1.2\n",
       "endog_sq_hat     -0.178708    -0.146940          0.1\n",
       "X2                2.486843     2.491079          3.0\n",
       "X3                1.702747     1.712935          2.0"
      ]
     },
     "execution_count": 42,
     "metadata": {},
     "output_type": "execute_result"
    }
   ],
   "source": [
    "coeff_estms3 = pd.DataFrame([result3.beta_hat_boots.mean(axis=0), result3.result2.params]).transpose()\n",
    "coeff_estms3.columns = ['Bootstrapped', 'Full_Sample']\n",
    "coeff_estms3['True_Coeffs'] = [1.5, 1.2, 0.1, 3, 2]\n",
    "coeff_estms3"
   ]
  },
  {
   "cell_type": "code",
   "execution_count": 39,
   "metadata": {},
   "outputs": [
    {
     "name": "stderr",
     "output_type": "stream",
     "text": [
      "/Users/nadavtadelis/anaconda/envs/study_env/lib/python3.6/site-packages/seaborn/timeseries.py:183: UserWarning: The tsplot function is deprecated and will be removed or replaced (in a substantially altered version) in a future release.\n",
      "  warnings.warn(msg, UserWarning)\n"
     ]
    },
    {
     "data": {
      "image/png": "[encoded data removed]",
      "text/plain": [
       "<Figure size 432x288 with 1 Axes>"
      ]
     },
     "metadata": {},
     "output_type": "display_data"
    }
   ],
   "source": [
    "cumsum_beta_hat_boots = np.cumsum(result3.beta_hat_boots['endog_hat'])\n",
    "sns.tsplot(cumsum_beta_hat_boots/np.arange(n_bootstraps));"
   ]
  },
  {
   "cell_type": "code",
   "execution_count": null,
   "metadata": {},
   "outputs": [],
   "source": []
  }
 ],
 "metadata": {
  "kernelspec": {
   "display_name": "Python 3",
   "language": "python",
   "name": "python3"
  },
  "language_info": {
   "codemirror_mode": {
    "name": "ipython",
    "version": 3
   },
   "file_extension": ".py",
   "mimetype": "text/x-python",
   "name": "python",
   "nbconvert_exporter": "python",
   "pygments_lexer": "ipython3",
   "version": "3.6.4"
  }
 },
 "nbformat": 4,
 "nbformat_minor": 2
}
